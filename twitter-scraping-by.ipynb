{
 "cells": [
  {
   "cell_type": "code",
   "execution_count": 5,
   "metadata": {},
   "outputs": [
    {
     "name": "stdout",
     "output_type": "stream",
     "text": [
      "Collecting git+https://github.com/tweepy/tweepy.git\n",
      "  Cloning https://github.com/tweepy/tweepy.git to /tmp/pip-req-build-h_ljo03j\n",
      "  Running command git clone --filter=blob:none --quiet https://github.com/tweepy/tweepy.git /tmp/pip-req-build-h_ljo03j\n",
      "  Resolved https://github.com/tweepy/tweepy.git to commit f32d12dbddbd877470446657812a10a04292d0c9\n",
      "  Preparing metadata (setup.py) ... \u001b[?25ldone\n",
      "\u001b[?25hRequirement already satisfied: oauthlib<4,>=3.2.0 in /home/conradkash/anaconda3/lib/python3.11/site-packages (from tweepy==4.14.0) (3.2.2)\n",
      "Requirement already satisfied: requests<3,>=2.27.0 in /home/conradkash/anaconda3/lib/python3.11/site-packages (from tweepy==4.14.0) (2.31.0)\n",
      "Requirement already satisfied: requests-oauthlib<2,>=1.2.0 in /home/conradkash/anaconda3/lib/python3.11/site-packages (from tweepy==4.14.0) (1.3.1)\n",
      "Requirement already satisfied: charset-normalizer<4,>=2 in /home/conradkash/anaconda3/lib/python3.11/site-packages (from requests<3,>=2.27.0->tweepy==4.14.0) (2.0.4)\n",
      "Requirement already satisfied: idna<4,>=2.5 in /home/conradkash/anaconda3/lib/python3.11/site-packages (from requests<3,>=2.27.0->tweepy==4.14.0) (3.4)\n",
      "Requirement already satisfied: urllib3<3,>=1.21.1 in /home/conradkash/anaconda3/lib/python3.11/site-packages (from requests<3,>=2.27.0->tweepy==4.14.0) (1.26.16)\n",
      "Requirement already satisfied: certifi>=2017.4.17 in /home/conradkash/anaconda3/lib/python3.11/site-packages (from requests<3,>=2.27.0->tweepy==4.14.0) (2023.7.22)\n",
      "Note: you may need to restart the kernel to use updated packages.\n"
     ]
    }
   ],
   "source": [
    "pip install git+https://github.com/tweepy/tweepy.git"
   ]
  },
  {
   "cell_type": "code",
   "execution_count": 6,
   "metadata": {},
   "outputs": [],
   "source": [
    "import tweepy\n",
    "import pandas as pd\n",
    "import csv\n",
    "import datetime\n",
    "import os"
   ]
  },
  {
   "cell_type": "code",
   "execution_count": 11,
   "metadata": {},
   "outputs": [
    {
     "ename": "ModuleNotFoundError",
     "evalue": "No module named 'credentials'",
     "output_type": "error",
     "traceback": [
      "\u001b[0;31m---------------------------------------------------------------------------\u001b[0m",
      "\u001b[0;31mModuleNotFoundError\u001b[0m                       Traceback (most recent call last)",
      "\u001b[1;32m/home/conradkash/Desktop/Github/code_switching/twitter-scraping-by.ipynb Cell 3\u001b[0m line \u001b[0;36m6\n\u001b[1;32m      <a href='vscode-notebook-cell:/home/conradkash/Desktop/Github/code_switching/twitter-scraping-by.ipynb#W3sZmlsZQ%3D%3D?line=3'>4</a>\u001b[0m access_token_secret \u001b[39m=\u001b[39m \u001b[39m'\u001b[39m\u001b[39mSiJElxCchySsBIcHs65l0SWPQMcQtSo1yAMyvHbYx3Ryo\u001b[39m\u001b[39m'\u001b[39m\n\u001b[1;32m      <a href='vscode-notebook-cell:/home/conradkash/Desktop/Github/code_switching/twitter-scraping-by.ipynb#W3sZmlsZQ%3D%3D?line=4'>5</a>\u001b[0m bearer_token \u001b[39m=\u001b[39m \u001b[39m'\u001b[39m\u001b[39mAAAAAAAAAAAAAAAAAAAAAB3cqAEAAAAAQrmnztZn071MRwDqWfRszBhRJZA\u001b[39m\u001b[39m%\u001b[39m\u001b[39m3DVPzbOkzTRZOUxokjLnrPgCoQXLEA91wlJtG9vnYuJqUUsGarQn\u001b[39m\u001b[39m'\u001b[39m\n\u001b[0;32m----> <a href='vscode-notebook-cell:/home/conradkash/Desktop/Github/code_switching/twitter-scraping-by.ipynb#W3sZmlsZQ%3D%3D?line=5'>6</a>\u001b[0m \u001b[39mfrom\u001b[39;00m \u001b[39mcredentials\u001b[39;00m \u001b[39mimport\u001b[39;00m \u001b[39m*\u001b[39m\n\u001b[1;32m      <a href='vscode-notebook-cell:/home/conradkash/Desktop/Github/code_switching/twitter-scraping-by.ipynb#W3sZmlsZQ%3D%3D?line=6'>7</a>\u001b[0m \u001b[39mimport\u001b[39;00m \u001b[39mtweepy\u001b[39;00m\n\u001b[1;32m      <a href='vscode-notebook-cell:/home/conradkash/Desktop/Github/code_switching/twitter-scraping-by.ipynb#W3sZmlsZQ%3D%3D?line=7'>8</a>\u001b[0m \u001b[39mprint\u001b[39m(tweepy\u001b[39m.\u001b[39m__version__)\n",
      "\u001b[0;31mModuleNotFoundError\u001b[0m: No module named 'credentials'"
     ]
    }
   ],
   "source": []
  },
  {
   "cell_type": "code",
   "execution_count": 10,
   "metadata": {},
   "outputs": [
    {
     "ename": "NameError",
     "evalue": "name '__file__' is not defined",
     "output_type": "error",
     "traceback": [
      "\u001b[0;31m---------------------------------------------------------------------------\u001b[0m",
      "\u001b[0;31mNameError\u001b[0m                                 Traceback (most recent call last)",
      "\u001b[1;32m/home/conradkash/Desktop/Github/code_switching/twitter-scraping-by.ipynb Cell 4\u001b[0m line \u001b[0;36m3\n\u001b[1;32m     <a href='vscode-notebook-cell:/home/conradkash/Desktop/Github/code_switching/twitter-scraping-by.ipynb#W4sZmlsZQ%3D%3D?line=28'>29</a>\u001b[0m     \u001b[39mprint\u001b[39m(\u001b[39m\"\u001b[39m\u001b[39mDone!\u001b[39m\u001b[39m\"\u001b[39m)\n\u001b[1;32m     <a href='vscode-notebook-cell:/home/conradkash/Desktop/Github/code_switching/twitter-scraping-by.ipynb#W4sZmlsZQ%3D%3D?line=31'>32</a>\u001b[0m \u001b[39mif\u001b[39;00m \u001b[39m__name__\u001b[39m \u001b[39m==\u001b[39m \u001b[39m\"\u001b[39m\u001b[39m__main__\u001b[39m\u001b[39m\"\u001b[39m:\n\u001b[0;32m---> <a href='vscode-notebook-cell:/home/conradkash/Desktop/Github/code_switching/twitter-scraping-by.ipynb#W4sZmlsZQ%3D%3D?line=32'>33</a>\u001b[0m     os\u001b[39m.\u001b[39mchdir(os\u001b[39m.\u001b[39mpath\u001b[39m.\u001b[39mdirname(os\u001b[39m.\u001b[39mpath\u001b[39m.\u001b[39mabspath(\u001b[39m__file__\u001b[39m)))\n\u001b[1;32m     <a href='vscode-notebook-cell:/home/conradkash/Desktop/Github/code_switching/twitter-scraping-by.ipynb#W4sZmlsZQ%3D%3D?line=33'>34</a>\u001b[0m     get_tweets(username)\n",
      "\u001b[0;31mNameError\u001b[0m: name '__file__' is not defined"
     ]
    }
   ],
   "source": [
    "\n",
    "username = \"Nimroddj\"\n",
    "\n",
    "\n",
    "def get_tweets(username: str):\n",
    "    \"\"\"\n",
    "    Pulls 3,200 (maximum allowed) most recent tweets for specified username and saves to tweets_<username>.csv\n",
    "    \"\"\"\n",
    "\n",
    "    client = tweepy.Client(bearer_token)\n",
    "    user_id = client.get_user(username=username).data.id\n",
    "    responses = tweepy.Paginator(client.get_users_tweets, user_id, max_results=100, limit=100)\n",
    "    tweets_list = [[\"link\", \"username\" \"tweet\"]]\n",
    "    currentime = datetime.datetime.now().strftime(\"%Y-%m-%d_%H-%M-%S\")\n",
    "\n",
    "    counter = 0\n",
    "    for response in responses:\n",
    "        counter += 1\n",
    "        print(f\"==> processing {counter * 100} to {(counter + 1) * 100} of {username}'s tweets\")\n",
    "        try:\n",
    "            for tweet in response.data:  # see any individual tweet by id at: twitter.com/anyuser/status/TWEET_ID_HERE\n",
    "                tweets_list.append([f\"https://twitter.com/anyuser/status/{tweet.id}\", username, tweet.text])\n",
    "        except Exception as e:\n",
    "            print(e)\n",
    "\n",
    "    with open(f\"tweets_{username}_{currentime}.csv\", \"w\", encoding=\"utf-8\", newline='') as f:\n",
    "        writer = csv.writer(f)\n",
    "        writer.writerows(tweets_list)\n",
    "\n",
    "    print(\"Done!\")\n",
    "\n",
    "\n",
    "if __name__ == \"__main__\":\n",
    "    os.chdir(os.path.dirname(os.path.abspath(__file__)))\n",
    "    get_tweets(username)"
   ]
  }
 ],
 "metadata": {
  "kernelspec": {
   "display_name": "base",
   "language": "python",
   "name": "python3"
  },
  "language_info": {
   "codemirror_mode": {
    "name": "ipython",
    "version": 3
   },
   "file_extension": ".py",
   "mimetype": "text/x-python",
   "name": "python",
   "nbconvert_exporter": "python",
   "pygments_lexer": "ipython3",
   "version": "3.11.4"
  },
  "orig_nbformat": 4
 },
 "nbformat": 4,
 "nbformat_minor": 2
}
